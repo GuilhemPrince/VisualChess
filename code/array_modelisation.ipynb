{
 "cells": [
  {
   "cell_type": "code",
   "execution_count": 2,
   "metadata": {},
   "outputs": [],
   "source": [
    "import numpy as np"
   ]
  },
  {
   "cell_type": "code",
   "execution_count": 3,
   "metadata": {},
   "outputs": [
    {
     "data": {
      "text/plain": [
       "array([[ 1,  2,  3,  4,  5,  6,  7,  8],\n",
       "       [ 9, 10, 11, 12, 13, 14, 15, 16],\n",
       "       [17, 18, 19, 20, 21, 22, 23, 24],\n",
       "       [25, 26, 27, 28, 29, 30, 31, 32],\n",
       "       [33, 34, 35, 36, 37, 38, 39, 40],\n",
       "       [41, 42, 43, 44, 45, 46, 47, 48],\n",
       "       [49, 50, 51, 52, 53, 54, 55, 56],\n",
       "       [57, 58, 59, 60, 61, 62, 63, 64]])"
      ]
     },
     "execution_count": 3,
     "metadata": {},
     "output_type": "execute_result"
    }
   ],
   "source": [
    "np.array([[i +1 + 8 * j for i in range(8)] for j in range(8)])"
   ]
  },
  {
   "cell_type": "code",
   "execution_count": 4,
   "metadata": {},
   "outputs": [
    {
     "data": {
      "text/plain": [
       "array([['R', 'N', 'B', 'K', 'Q', 'B', 'N', 'R'],\n",
       "       ['P', 'P', 'P', 'P', 'P', 'P', 'P', 'P'],\n",
       "       ['', '', '', '', '', '', '', ''],\n",
       "       ['', '', '', '', '', '', '', ''],\n",
       "       ['', '', '', '', '', '', '', ''],\n",
       "       ['', '', '', '', '', '', '', ''],\n",
       "       ['p', 'p', 'p', 'p', 'p', 'p', 'p', 'p'],\n",
       "       ['r', 'n', 'b', 'k', 'q', 'b', 'n', 'r']], dtype='<U1')"
      ]
     },
     "execution_count": 4,
     "metadata": {},
     "output_type": "execute_result"
    }
   ],
   "source": [
    "initial_position = np.array([['R','N','B','K','Q','B','N','R'], ['P']*8, ['']*8, ['']*8, ['']*8, ['']*8, ['p']*8, ['r','n','b','k','q','b','n','r']])\n",
    "initial_position"
   ]
  },
  {
   "cell_type": "code",
   "execution_count": 6,
   "metadata": {},
   "outputs": [
    {
     "data": {
      "text/plain": [
       "array([[2, 2, 2, 2, 2, 2, 2, 2],\n",
       "       [2, 2, 2, 0, 2, 2, 2, 2],\n",
       "       [0, 0, 0, 0, 0, 0, 0, 0],\n",
       "       [0, 0, 0, 2, 0, 0, 0, 0],\n",
       "       [0, 0, 0, 0, 0, 0, 0, 0],\n",
       "       [0, 0, 0, 0, 0, 0, 0, 0],\n",
       "       [1, 1, 1, 1, 1, 1, 1, 1],\n",
       "       [1, 1, 1, 1, 1, 1, 1, 1]])"
      ]
     },
     "execution_count": 6,
     "metadata": {},
     "output_type": "execute_result"
    }
   ],
   "source": [
    "first_move = np.array([[2]*8, \n",
    "                       [2]*3 + [0] + [2]*4, \n",
    "                       [0]*8, \n",
    "                       [0]*3 + [2] + [0]*4,\n",
    "                       [0]*8,\n",
    "                       [0]*8,\n",
    "                       [1]*8,\n",
    "                       [1]*8 ])\n",
    "first_move"
   ]
  },
  {
   "cell_type": "code",
   "execution_count": null,
   "metadata": {},
   "outputs": [],
   "source": [
    "def new_position(current_position, new_move):\n",
    "    pass "
   ]
  }
 ],
 "metadata": {
  "kernelspec": {
   "display_name": "base",
   "language": "python",
   "name": "python3"
  },
  "language_info": {
   "codemirror_mode": {
    "name": "ipython",
    "version": 3
   },
   "file_extension": ".py",
   "mimetype": "text/x-python",
   "name": "python",
   "nbconvert_exporter": "python",
   "pygments_lexer": "ipython3",
   "version": "3.9.7"
  },
  "orig_nbformat": 4
 },
 "nbformat": 4,
 "nbformat_minor": 2
}
